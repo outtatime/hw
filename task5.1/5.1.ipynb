{
 "cells": [
  {
   "cell_type": "markdown",
   "metadata": {},
   "source": [
    "Чтение данных и представление их в нужном формате"
   ]
  },
  {
   "cell_type": "code",
   "execution_count": 6,
   "metadata": {},
   "outputs": [],
   "source": [
    "import ortools\n",
    "from ortools.algorithms import pywrapknapsack_solver\n",
    "\n",
    "itemsData=[]\n",
    "values=[]\n",
    "weights=[]\n",
    "volumes=[]\n",
    "\n",
    "f=open('16.txt', 'r')\n",
    "for line in f:\n",
    "    itemsData.append(line.split())\n",
    "weightCapacity=int(itemsData[0][0])\n",
    "volumeCapacity=int(float(itemsData[0][1])*10)\n",
    "itemsData.pop(0)\n",
    "for item in itemsData:\n",
    "    values.append(int(item[2]))\n",
    "    weights.append(int(item[0]))\n",
    "    volumes.append(int(float(item[1])*10))\n",
    "weights=[weights, volumes]\n",
    "\n",
    "capacities=[weightCapacity, volumeCapacity]"
   ]
  },
  {
   "cell_type": "markdown",
   "metadata": {},
   "source": [
    "Решение"
   ]
  },
  {
   "cell_type": "code",
   "execution_count": 3,
   "metadata": {},
   "outputs": [
    {
     "name": "stdout",
     "output_type": "stream",
     "text": [
      "Total value = 4452\n",
      "Total weight: 12933\n",
      "Total volume: 11.9\n",
      "Packed items: [1, 3, 9, 10, 11, 13, 14, 17, 18, 19, 20, 23, 25, 27, 29]\n",
      "Packed_weights: [1160, 1315, 558, 1139, 151, 774, 1599, 772, 704, 1372, 721, 976, 378, 823, 491]\n"
     ]
    }
   ],
   "source": [
    "\n",
    "solver = pywrapknapsack_solver.KnapsackSolver(\n",
    "    pywrapknapsack_solver.KnapsackSolver\n",
    "        .KNAPSACK_MULTIDIMENSION_BRANCH_AND_BOUND_SOLVER,\n",
    "    'Multi-dimensional solver')\n",
    "solver.Init(values, weights, capacities)\n",
    "computed_value = solver.Solve()\n"
   ]
  },
  {
   "cell_type": "markdown",
   "metadata": {},
   "source": [
    "Вывод результатов"
   ]
  },
  {
   "cell_type": "code",
   "execution_count": 13,
   "metadata": {},
   "outputs": [
    {
     "name": "stdout",
     "output_type": "stream",
     "text": [
      "Оптимальная цена: 4452\n",
      "Оптимальный вес: 12933\n",
      "Оптимальный объем: 11.9\n",
      "Список предметов:\n",
      "372 1160 0.8\n",
      "357 1315 0.5\n",
      "371 558 1.0\n",
      "288 1139 1.0\n",
      "286 151 0.4\n",
      "171 774 0.6\n",
      "317 1599 1.0\n",
      "387 772 0.9\n",
      "317 704 0.8\n",
      "239 1372 0.8\n",
      "231 721 1.0\n",
      "300 976 0.6\n",
      "217 378 1.0\n",
      "367 823 0.9\n",
      "232 491 0.6\n",
      "\n"
     ]
    }
   ],
   "source": [
    "packed_items = []\n",
    "packed_weights = []\n",
    "total_weight = 0\n",
    "total_volume=0\n",
    "for i in range(len(values)):\n",
    "    if solver.BestSolutionContains(i):\n",
    "        packed_items.append([values[i], weights[0][i], weights[1][i]/10])\n",
    "        total_weight += weights[0][i]\n",
    "        total_volume+=weights[1][i]\n",
    "res='Оптимальная цена: '+str(computed_value)+'\\n'  \n",
    "res+='Оптимальный вес: '+str(total_weight)+'\\n'\n",
    "res+='Оптимальный объем: '+str(total_volume/10)+'\\n'\n",
    "res+='Список предметов:\\n'\n",
    "for item in packed_items:\n",
    "    res+=str(item[0])+' '+str(item[1])+' '+str(item[2])+'\\n'\n",
    "print(res)\n",
    "f=open('res.txt', 'w')\n",
    "f.write(res)\n",
    "f.close()"
   ]
  },
  {
   "cell_type": "code",
   "execution_count": null,
   "metadata": {},
   "outputs": [],
   "source": []
  }
 ],
 "metadata": {
  "kernelspec": {
   "display_name": "Python 3",
   "language": "python",
   "name": "python3"
  },
  "language_info": {
   "codemirror_mode": {
    "name": "ipython",
    "version": 3
   },
   "file_extension": ".py",
   "mimetype": "text/x-python",
   "name": "python",
   "nbconvert_exporter": "python",
   "pygments_lexer": "ipython3",
   "version": "3.7.4"
  }
 },
 "nbformat": 4,
 "nbformat_minor": 2
}
