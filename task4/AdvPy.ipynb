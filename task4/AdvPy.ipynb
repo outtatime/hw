{
 "cells": [
  {
   "cell_type": "markdown",
   "metadata": {},
   "source": [
    "**1. Квадраты всех четных чисел (используя map и filter)**\n"
   ]
  },
  {
   "cell_type": "code",
   "execution_count": 174,
   "metadata": {
    "scrolled": true
   },
   "outputs": [
    {
     "name": "stdout",
     "output_type": "stream",
     "text": [
      "4\n",
      "16\n",
      "36\n",
      "64\n",
      "100\n",
      "144\n",
      "196\n",
      "256\n",
      "324\n",
      "400\n"
     ]
    }
   ],
   "source": [
    "#сказано \"всех четных чисел\" - воспринимаем буквально и генерируем бесконечную последовательность\n",
    "import itertools\n",
    "\n",
    "def sq(x):\n",
    "    return x**2\n",
    "\n",
    "def is_even(x):\n",
    "    if x%2==0:\n",
    "        return True\n",
    "    else:\n",
    "        return False\n",
    "    \n",
    "a=(i for i in itertools.count(1,1))\n",
    "a_filtered=filter(is_even, a)\n",
    "a_mapped=map(sq, a_filtered)\n",
    "\n",
    "for i in range(0,10):\n",
    "    print(next(a_mapped))"
   ]
  },
  {
   "cell_type": "markdown",
   "metadata": {},
   "source": [
    "**2. Дана входная строка и массив чисел, необходимо вернуть строку\n",
    "с теми буквами, которые стоят на указанных местах (два\n",
    "варианта, используя и не используя list comprehensions)**  \n",
    "\\# «Всем привет», [1, 3, 5] -> «смп»"
   ]
  },
  {
   "cell_type": "code",
   "execution_count": 39,
   "metadata": {},
   "outputs": [
    {
     "name": "stdout",
     "output_type": "stream",
     "text": [
      "смп\n"
     ]
    }
   ],
   "source": [
    "def func_with_lc(st, positions):\n",
    "    return \"\".join([x for i,x in enumerate(st) if i in positions])\n",
    "print(func_with_lc(\"Всем привет\", [1, 3, 5]))"
   ]
  },
  {
   "cell_type": "code",
   "execution_count": 41,
   "metadata": {},
   "outputs": [
    {
     "name": "stdout",
     "output_type": "stream",
     "text": [
      "смп\n"
     ]
    }
   ],
   "source": [
    "def func_without_lc(st, positions):\n",
    "    res=[]\n",
    "    for i, x in enumerate(st):\n",
    "        if i in positions:\n",
    "            res.append(x)\n",
    "    return \"\".join(res)\n",
    "print(func_without_lc(\"Всем привет\", [1, 3, 5]))\n",
    "    "
   ]
  },
  {
   "cell_type": "markdown",
   "metadata": {},
   "source": [
    "**3. Дан текст (предложения разделены только точками), в котором буквы могут находиться в разных регистрах. Необходимо вернуть текст, в котором все буквы в нижнем регистре, а первые буквы каждого предложения – в верхнем. Пользоваться можно встроенными функциями строки (кроме capitalize), всеми изученными в этой теме функциями и модулем itertools.**"
   ]
  },
  {
   "cell_type": "code",
   "execution_count": 89,
   "metadata": {},
   "outputs": [
    {
     "name": "stdout",
     "output_type": "stream",
     "text": [
      "This is a test text. This is one more sentense of the test text. This is the last sentense of the test text.\n"
     ]
    }
   ],
   "source": [
    "def cap(text):\n",
    "    counter = 0\n",
    "    end_of_text=len(text)\n",
    "    while True:\n",
    "        if counter==0:\n",
    "            prev_sym=text[0]\n",
    "            before_prev_sym=\"\"\n",
    "            yield text[0].upper()\n",
    "            counter+=1            \n",
    "        else:\n",
    "            if counter<end_of_text:\n",
    "                if prev_sym==' ' and before_prev_sym=='.': \n",
    "                    before_prev_sym=prev_sym\n",
    "                    prev_sym=text[counter] \n",
    "                    yield text[counter].upper()\n",
    "                    counter+=1\n",
    "                else:\n",
    "                    before_prev_sym=prev_sym\n",
    "                    prev_sym=text[counter]          \n",
    "                    yield text[counter].lower()\n",
    "                    counter+=1                \n",
    "            else:\n",
    "                return 1\n",
    "        \n",
    "def turn_to_string(text):\n",
    "    return \"\".join(cap(text))\n",
    "        \n",
    "text=\"this is a test text. This is One more sentense of the test texT. this is THE last sentense of the test text.\"\n",
    "print(turn_to_string(text))"
   ]
  },
  {
   "cell_type": "markdown",
   "metadata": {},
   "source": [
    "**4. Cоздайте функцию pipeline_each, в которую вы будете подавать итерируемый объект и список функций, которые последовательно надо к нему применить.\n",
    "Ответ – объект после применения функций в указанном порядке.**"
   ]
  },
  {
   "cell_type": "code",
   "execution_count": 147,
   "metadata": {},
   "outputs": [
    {
     "name": "stdout",
     "output_type": "stream",
     "text": [
      "['aa123', 'bb123', 'cc123']\n"
     ]
    }
   ],
   "source": [
    "import functools\n",
    "def pipeline_one(ob, funcs):\n",
    "    funcs1=funcs.copy()\n",
    "    funcs1[0]=funcs1[0](ob)  \n",
    "    return functools.reduce(call, funcs1)\n",
    "\n",
    "def pipeline_each(ob, funcs):   \n",
    "    res=[]\n",
    "    for i in ob:\n",
    "        res.append(pipeline_one(i, funcs))\n",
    "    return res\n",
    "\n",
    "def call(func1, func2):\n",
    "    return func2(func1)\n",
    "\n",
    "def a(x):\n",
    "    return x+'1'\n",
    "def b(x):\n",
    "    return x+'2'\n",
    "def c(x):\n",
    "    return x+'3'\n",
    "\n",
    "funcs=[a, b, c]\n",
    "ob=['aa', 'bb', 'cc']\n",
    "print(pipeline_each(ob, funcs))"
   ]
  },
  {
   "cell_type": "markdown",
   "metadata": {},
   "source": [
    "**5. Написать генератор, возвращающий по очереди все слова, входящие в предложение.**"
   ]
  },
  {
   "cell_type": "code",
   "execution_count": 164,
   "metadata": {},
   "outputs": [
    {
     "name": "stdout",
     "output_type": "stream",
     "text": [
      "this\n",
      "is\n",
      "another\n",
      "test\n",
      "text\n"
     ]
    }
   ],
   "source": [
    "def gen(text):\n",
    "    count=0\n",
    "    end=text.count(' ')\n",
    "    while count<end:\n",
    "        i=text.find(' ')\n",
    "        count+=1\n",
    "        res=text[:i]\n",
    "        text=text[i+1:]\n",
    "        yield res\n",
    "    yield text\n",
    "\n",
    "text='this is another test text'\n",
    "for i in gen(text):\n",
    "    print(i)"
   ]
  },
  {
   "cell_type": "markdown",
   "metadata": {},
   "source": [
    "**6. Написать генератор псевдослучайных чисел**  \n",
    "◦ Генератор внутри задается какой-нибудь формулой, которая выдает\n",
    "«случайный» результат  \n",
    "◦ На вход генератору приходит seed – начальное значение, при\n",
    "одинаковых начальных значениях два генератора будут выдавать\n",
    "одинаковые следующие значения"
   ]
  },
  {
   "cell_type": "code",
   "execution_count": 233,
   "metadata": {},
   "outputs": [
    {
     "name": "stdout",
     "output_type": "stream",
     "text": [
      "Первый вызов генератора\n",
      "2420355\n",
      "6537328\n",
      "5880589\n",
      "7356706\n",
      "5015680\n",
      "Второй вызов генератора\n",
      "2420355\n",
      "6537328\n",
      "5880589\n",
      "7356706\n",
      "5015680\n"
     ]
    }
   ],
   "source": [
    "import datetime\n",
    "def gen_no_seed(stop):\n",
    "    count=0\n",
    "    prev=datetime.datetime.now().microsecond\n",
    "    res=str(prev)\n",
    "    a=54522\n",
    "    m=7578455\n",
    "    c=478\n",
    "    while True:\n",
    "        if count<stop:\n",
    "            res=(a*prev+c)%m\n",
    "            \n",
    "            prev=res\n",
    "            count+=1\n",
    "            yield res\n",
    "        else:\n",
    "            return 1\n",
    "print(\"Первый вызов генератора:\")\n",
    "for i in gen_no_seed(5):\n",
    "    print(i)\n",
    "print(\"Второй вызов генератора:\")\n",
    "for i in gen_no_seed(5):\n",
    "    print(i)"
   ]
  },
  {
   "cell_type": "code",
   "execution_count": 237,
   "metadata": {},
   "outputs": [
    {
     "name": "stdout",
     "output_type": "stream",
     "text": [
      "Первый вызов генератора:\n",
      "2978553\n",
      "5533404\n",
      "1538271\n",
      "6428910\n",
      "5909293\n",
      "Второй вызов генератора с тем же начальным значением:\n",
      "2978553\n",
      "5533404\n",
      "1538271\n",
      "6428910\n",
      "5909293\n",
      "Вызов генератора с другим начальным значением:\n",
      "1825969\n",
      "4897416\n",
      "5210615\n",
      "7187378\n",
      "3472654\n"
     ]
    }
   ],
   "source": [
    "import datetime\n",
    "def gen_seed(seed, stop):\n",
    "    count=0\n",
    "    prev=seed\n",
    "    res=str(prev)\n",
    "    a=54522\n",
    "    m=7578455\n",
    "    c=478\n",
    "    while True:\n",
    "        if count<stop:\n",
    "            res=(a*prev+c)%m\n",
    "            \n",
    "            prev=res\n",
    "            count+=1\n",
    "            yield res\n",
    "        else:\n",
    "            return 1\n",
    "print(\"Первый вызов генератора:\")\n",
    "for i in gen_seed(45785, 5):\n",
    "    print(i)\n",
    "print(\"Второй вызов генератора с тем же начальным значением:\")\n",
    "for i in gen_seed(45785, 5):\n",
    "    print(i)\n",
    "print(\"Вызов генератора с другим начальным значением:\")\n",
    "for i in gen_seed(35478, 5):\n",
    "    print(i)"
   ]
  },
  {
   "cell_type": "markdown",
   "metadata": {},
   "source": [
    "**7. Написать корутину, которая реализует бесконечную арифметическую прогрессию с возможностью перезапуска с любого места   \n",
    "(3, 4, 5, 6, send(30), 31, 32, 33, …)**"
   ]
  },
  {
   "cell_type": "code",
   "execution_count": 343,
   "metadata": {},
   "outputs": [
    {
     "name": "stdout",
     "output_type": "stream",
     "text": [
      "3\n",
      "4\n",
      "5\n",
      "6\n",
      "32\n",
      "33\n",
      "34\n",
      "35\n"
     ]
    }
   ],
   "source": [
    "def cor():\n",
    "    try:\n",
    "        step=1\n",
    "        start=(yield) \n",
    "        res=start\n",
    "        while True:        \n",
    "            res+=step\n",
    "            yield res\n",
    "    except:\n",
    "        pass\n",
    "  \n",
    "c = cor() \n",
    "\n",
    "c.__next__()\n",
    "c.send(1) \n",
    "for i in range(0,4):\n",
    "    print(next(c))\n",
    "c.close()\n",
    "c=cor()\n",
    "c.__next__()\n",
    "c.send(30)\n",
    "for i in range(0,4):\n",
    "    print(next(c))"
   ]
  }
 ],
 "metadata": {
  "kernelspec": {
   "display_name": "Python 3",
   "language": "python",
   "name": "python3"
  },
  "language_info": {
   "codemirror_mode": {
    "name": "ipython",
    "version": 3
   },
   "file_extension": ".py",
   "mimetype": "text/x-python",
   "name": "python",
   "nbconvert_exporter": "python",
   "pygments_lexer": "ipython3",
   "version": "3.7.4"
  }
 },
 "nbformat": 4,
 "nbformat_minor": 2
}
