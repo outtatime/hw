{
 "cells": [
  {
   "cell_type": "markdown",
   "metadata": {},
   "source": [
    "Получаем данные."
   ]
  },
  {
   "cell_type": "code",
   "execution_count": 1,
   "metadata": {},
   "outputs": [],
   "source": [
    "import random\n",
    "\n",
    "objectList=[]\n",
    "dataFile=open('16.txt', 'r')\n",
    "for line in dataFile:\n",
    "    objectList.append(line.split())\n",
    "dataFile.close()\n",
    "maxWeight=float(objectList[0][0])\n",
    "maxVolume=float(objectList[0][1])\n",
    "objectList.pop(0)\n",
    "numberOfObjects=len(objectList)\n",
    "parentsIndexes=[]\n",
    "solutions=[]\n",
    "selected=[]\n",
    "parents=[]\n",
    "populationSize=200\n",
    "best=0\n",
    "bestSolution=[]\n"
   ]
  },
  {
   "cell_type": "markdown",
   "metadata": {},
   "source": [
    "Получаем начальную популяцию - 200 особей, каждая особь - битовая последовательность длиной 30 (количество предметов в списке), особи генерируются случайно."
   ]
  },
  {
   "cell_type": "code",
   "execution_count": 2,
   "metadata": {},
   "outputs": [],
   "source": [
    "import random\n",
    "def solutionsGenerator(length, finish):\n",
    "    start=0\n",
    "    while start<finish:\n",
    "        res=[]\n",
    "        for i in range(0, length):\n",
    "            res.append(random.randrange(2))\n",
    "        start+=1\n",
    "        yield res\n",
    "\n",
    "        \n",
    "for i in solutionsGenerator(numberOfObjects, populationSize):\n",
    "    solutions.append(i)"
   ]
  },
  {
   "cell_type": "markdown",
   "metadata": {},
   "source": [
    "Выбираем особи для скрещивания. Выбор производится методом рулетки. Вычислим функцию приспособленности для каждой особи, в зависимости от значения функции приспособленности вычислим вероятность выбора данной особи, и на основе вычисленных вероятностей выберем 20% особей.    \n",
    "Функция приспособленности - суммарная ценность предметов при условии, что суммарные вес и объем предметов не превышают заданные грузоподъемность и вместительность."
   ]
  },
  {
   "cell_type": "code",
   "execution_count": 3,
   "metadata": {},
   "outputs": [],
   "source": [
    "#ищем значения функции приспособленности\n",
    "def fitness(k):\n",
    "    global solutions\n",
    "    global best\n",
    "    global bestSolution\n",
    "    \n",
    "    summValue=0\n",
    "    summVolume=0\n",
    "    summWeight=0\n",
    "    for i in range (0, len(solutions[k])):\n",
    "        summWeight+=solutions[k][i]*float(objectList[i][0])\n",
    "        summVolume+=solutions[k][i]*float(objectList[i][1])\n",
    "        summValue+=solutions[k][i]*float(objectList[i][2])\n",
    "    if summVolume<=maxVolume and summWeight<=maxWeight:\n",
    "        res=summValue\n",
    "    else:\n",
    "        res=0\n",
    "    if res>best:\n",
    "        best=res\n",
    "        bestSolution=solutions[k]\n",
    "    return res\n",
    "\n",
    "    \n",
    "#ищем вероятности    \n",
    "def prob():\n",
    "    global solutions\n",
    "    global best\n",
    "    best=0\n",
    "    summFitness=0\n",
    "    for i in range(0, len(solutions)):\n",
    "        fit=fitness(i)\n",
    "        summFitness+=fit\n",
    "        solutions[i].append(fit)\n",
    "    for i in range(0, len(solutions)):\n",
    "        solutions[i].append(solutions[i][-1]/summFitness)\n",
    "        \n",
    "#ищем концы отрезков на \"рулетке\"        \n",
    "def sections():\n",
    "    global solutions\n",
    "    current=0\n",
    "    for solution in solutions:\n",
    "        if solution[-1]==0:\n",
    "            solution.append(0)\n",
    "            solution.append(0)\n",
    "        else:\n",
    "            solution.append(current)\n",
    "            solution.append(current+solution[-2])\n",
    "            current+=solution[-3]        "
   ]
  },
  {
   "cell_type": "code",
   "execution_count": 4,
   "metadata": {},
   "outputs": [],
   "source": [
    "def selection():\n",
    "    global solutions\n",
    "    global selected\n",
    "    global parentsIndexes\n",
    "    parentsIndexes=[]\n",
    "    selected=[]\n",
    "  \n",
    "    counter=0\n",
    "    while counter<int(populationSize*0.2):\n",
    "        rand=random.random()\n",
    "        for j in range(0, len(solutions)):\n",
    "            if solutions[j][-2]<=rand and solutions[j][-1]>=rand:\n",
    "                if j not in parentsIndexes:\n",
    "                    counter+=1\n",
    "                    sol=[]\n",
    "                    for k in range(0, numberOfObjects):\n",
    "                        sol.append(solutions[j][k])\n",
    "                    selected.append(sol)\n",
    "                    parentsIndexes.append(j)\n",
    "                    \n",
    "    for i in range (0, len(solutions)):\n",
    "        sol=solutions[i]\n",
    "        solutions[i]=[]\n",
    "        for j in range(0, numberOfObjects):\n",
    "            solutions[i].append(sol[j])"
   ]
  },
  {
   "cell_type": "markdown",
   "metadata": {},
   "source": [
    "Скрещиваем особей. Каждая особь скрещивается один раз, каждая пара дает два потомка. Потомок получает каждый бит случайным образом от одного из родителей."
   ]
  },
  {
   "cell_type": "code",
   "execution_count": 5,
   "metadata": {},
   "outputs": [],
   "source": [
    "def crossOver():\n",
    "    global selected\n",
    "    global parents\n",
    "    parents=[]\n",
    "    for i in selected:\n",
    "        i.append(0)\n",
    "    for i in range(0, len(selected)):\n",
    "        if selected[i][-1]==0:\n",
    "            crossedOver=0\n",
    "            while crossedOver==0:\n",
    "                r=random.randrange(int(populationSize*0.2))\n",
    "                if selected[r][-1]==0:\n",
    "                    crossedOver=1\n",
    "            firstChild=[]\n",
    "            secondChild=[]\n",
    "            for j in range(0, numberOfObjects):\n",
    "                rand=random.randrange(2)\n",
    "                if(rand==1):\n",
    "                    firstChild.append(selected[i][j])\n",
    "                else:\n",
    "                    firstChild.append(selected[r][j])\n",
    "                rand=random.randrange(2)\n",
    "                if(rand==1):\n",
    "                    secondChild.append(selected[i][j])\n",
    "                else:\n",
    "                    secondChild.append(selected[r][j])\n",
    "            parents.append((selected[i], firstChild))\n",
    "            parents.append((selected[r], secondChild))\n",
    "            firstChild.append(1)\n",
    "            secondChild.append(1)\n",
    "            selected[i]=list(firstChild)\n",
    "            selected[r]=list(secondChild)\n",
    "    for i in selected:\n",
    "        i.pop()"
   ]
  },
  {
   "cell_type": "markdown",
   "metadata": {},
   "source": [
    "Мутация: инвертируем все биты у одной особи."
   ]
  },
  {
   "cell_type": "code",
   "execution_count": 6,
   "metadata": {},
   "outputs": [],
   "source": [
    "def mutate():\n",
    "    global solutions\n",
    "    rand=random.randrange(len(solutions))\n",
    "    for i in range(0, numberOfObjects):\n",
    "        if solutions[rand][i]==1:\n",
    "            solutions[rand][i]=0\n",
    "        else:\n",
    "            solutions[rand][i]=1"
   ]
  },
  {
   "cell_type": "markdown",
   "metadata": {},
   "source": [
    "Формирование нового поколения: меняем родителей на потомков."
   ]
  },
  {
   "cell_type": "code",
   "execution_count": 7,
   "metadata": {},
   "outputs": [],
   "source": [
    "def newPop():\n",
    "    global solutions\n",
    "    global selected\n",
    "    k=0\n",
    "\n",
    "    for j in range(0, len(solutions)):\n",
    "        s=list(solutions[j])\n",
    "        solutions[j]=[]\n",
    "        for i in range(0, numberOfObjects):\n",
    "            solutions[j].append(s[i])\n",
    "    for j in range(0, len(selected)):\n",
    "        s=list(selected[j])\n",
    "        selected[j]=[]\n",
    "        for i in range(0, numberOfObjects):\n",
    "            selected[j].append(s[i])\n",
    "    for i in parentsIndexes:\n",
    "        if fit(solutions[i])<fit(selected[k]):\n",
    "            solutions[i]=selected[k]\n",
    "        k+=1           \n",
    "        \n",
    "            \n",
    "def fit(sol):\n",
    "    w=0\n",
    "    vol=0\n",
    "    val=0\n",
    "    for i in range(0, numberOfObjects):\n",
    "        w+=float(objectList[i][0])*sol[i]\n",
    "        vol+=float(objectList[i][1])*sol[i]\n",
    "        val+=float(objectList[i][2])*sol[i]\n",
    "    if vol<=maxVolume and w<=maxWeight:\n",
    "        return val\n",
    "    else:\n",
    "        return 0\n",
    "        \n",
    "#newPop()"
   ]
  },
  {
   "cell_type": "code",
   "execution_count": 8,
   "metadata": {},
   "outputs": [
    {
     "name": "stdout",
     "output_type": "stream",
     "text": [
      "4452.0\n",
      "[0, 1, 0, 1, 0, 0, 0, 0, 0, 1, 1, 1, 0, 1, 1, 0, 0, 1, 1, 1, 1, 0, 0, 1, 0, 1, 0, 1, 0, 1]\n",
      "12933\n",
      "11.9\n"
     ]
    }
   ],
   "source": [
    "counter=0\n",
    "while counter<=500:    \n",
    "    newsel=list(solutions)\n",
    "    prob()\n",
    "    sections()\n",
    "    selection() \n",
    "    crossOver()  \n",
    "    mutate()\n",
    "    newPop()\n",
    "    counter+=1\n",
    "s=list(bestSolution)\n",
    "bestSolution=[]\n",
    "for i in range(0, numberOfObjects):\n",
    "    bestSolution.append(s[i])\n",
    "print(best)\n",
    "print(bestSolution)\n",
    "w=0\n",
    "v=0\n",
    "objects=''\n",
    "for i in range(0, numberOfObjects):\n",
    "    if bestSolution[i]!=0:\n",
    "        objects+=objectList[i][0]+' '+objectList[i][1]+' '+objectList[i][2]+'\\n'\n",
    "    w+=round(bestSolution[i]*float(objectList[i][0]))\n",
    "    v+=bestSolution[i]*float(objectList[i][1])\n",
    "v=round(v, 1)\n",
    "print(w)\n",
    "print(v)\n",
    "\n"
   ]
  },
  {
   "cell_type": "code",
   "execution_count": 9,
   "metadata": {},
   "outputs": [],
   "source": [
    "f=open('res.txt', 'w')\n",
    "res='Оптимальная цена: '+str(best)+'\\n'+'Оптимальный вес: '+str(w)+'\\n'+'Оптимальный объем: '+str(v)+'\\n'+'Список объектов:\\n'+objects\n",
    "f.write(res)\n",
    "f.close()"
   ]
  },
  {
   "cell_type": "code",
   "execution_count": null,
   "metadata": {},
   "outputs": [],
   "source": []
  }
 ],
 "metadata": {
  "kernelspec": {
   "display_name": "Python 3",
   "language": "python",
   "name": "python3"
  },
  "language_info": {
   "codemirror_mode": {
    "name": "ipython",
    "version": 3
   },
   "file_extension": ".py",
   "mimetype": "text/x-python",
   "name": "python",
   "nbconvert_exporter": "python",
   "pygments_lexer": "ipython3",
   "version": "3.7.4"
  }
 },
 "nbformat": 4,
 "nbformat_minor": 2
}
